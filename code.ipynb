{
 "cells": [
  {
   "cell_type": "code",
   "execution_count": 1,
   "id": "c1cabeae",
   "metadata": {
    "scrolled": true
   },
   "outputs": [
    {
     "name": "stderr",
     "output_type": "stream",
     "text": [
      "R[write to console]: trying URL 'https://cloud.r-project.org/bin/macosx/big-sur-arm64/contrib/4.4/lme4_1.1-35.5.tgz'\n",
      "\n",
      "R[write to console]: Content type 'application/x-gzip'\n",
      "R[write to console]:  length 7080907 bytes (6.8 MB)\n",
      "\n",
      "R[write to console]: =\n",
      "R[write to console]: =\n",
      "R[write to console]: =\n",
      "R[write to console]: =\n",
      "R[write to console]: =\n",
      "R[write to console]: =\n",
      "R[write to console]: =\n",
      "R[write to console]: =\n",
      "R[write to console]: =\n",
      "R[write to console]: =\n",
      "R[write to console]: =\n",
      "R[write to console]: =\n",
      "R[write to console]: =\n",
      "R[write to console]: =\n",
      "R[write to console]: =\n",
      "R[write to console]: =\n",
      "R[write to console]: =\n",
      "R[write to console]: =\n",
      "R[write to console]: =\n",
      "R[write to console]: =\n",
      "R[write to console]: =\n",
      "R[write to console]: =\n",
      "R[write to console]: =\n",
      "R[write to console]: =\n",
      "R[write to console]: =\n",
      "R[write to console]: =\n",
      "R[write to console]: =\n",
      "R[write to console]: =\n",
      "R[write to console]: =\n",
      "R[write to console]: =\n",
      "R[write to console]: =\n",
      "R[write to console]: =\n",
      "R[write to console]: =\n",
      "R[write to console]: =\n",
      "R[write to console]: =\n",
      "R[write to console]: =\n",
      "R[write to console]: =\n",
      "R[write to console]: =\n",
      "R[write to console]: =\n",
      "R[write to console]: =\n",
      "R[write to console]: =\n",
      "R[write to console]: =\n",
      "R[write to console]: =\n",
      "R[write to console]: =\n",
      "R[write to console]: =\n",
      "R[write to console]: =\n",
      "R[write to console]: =\n",
      "R[write to console]: =\n",
      "R[write to console]: =\n",
      "R[write to console]: =\n",
      "R[write to console]: \n",
      "\n",
      "R[write to console]: downloaded 6.8 MB\n",
      "\n",
      "\n",
      "R[write to console]: trying URL 'https://cloud.r-project.org/bin/macosx/big-sur-arm64/contrib/4.4/lmerTest_3.1-3.tgz'\n",
      "\n",
      "R[write to console]: Content type 'application/x-gzip'\n",
      "R[write to console]:  length 534843 bytes (522 KB)\n",
      "\n",
      "R[write to console]: =\n",
      "R[write to console]: =\n",
      "R[write to console]: =\n",
      "R[write to console]: =\n",
      "R[write to console]: =\n",
      "R[write to console]: =\n",
      "R[write to console]: =\n",
      "R[write to console]: =\n",
      "R[write to console]: =\n",
      "R[write to console]: =\n",
      "R[write to console]: =\n",
      "R[write to console]: =\n",
      "R[write to console]: =\n",
      "R[write to console]: =\n",
      "R[write to console]: =\n",
      "R[write to console]: =\n",
      "R[write to console]: =\n",
      "R[write to console]: =\n",
      "R[write to console]: =\n",
      "R[write to console]: =\n",
      "R[write to console]: =\n",
      "R[write to console]: =\n",
      "R[write to console]: =\n",
      "R[write to console]: =\n",
      "R[write to console]: =\n",
      "R[write to console]: =\n",
      "R[write to console]: =\n",
      "R[write to console]: =\n",
      "R[write to console]: =\n",
      "R[write to console]: =\n",
      "R[write to console]: =\n",
      "R[write to console]: =\n",
      "R[write to console]: =\n",
      "R[write to console]: =\n",
      "R[write to console]: =\n",
      "R[write to console]: =\n",
      "R[write to console]: =\n",
      "R[write to console]: =\n",
      "R[write to console]: =\n",
      "R[write to console]: =\n",
      "R[write to console]: =\n",
      "R[write to console]: =\n",
      "R[write to console]: =\n",
      "R[write to console]: =\n",
      "R[write to console]: =\n",
      "R[write to console]: =\n",
      "R[write to console]: =\n",
      "R[write to console]: =\n",
      "R[write to console]: =\n",
      "R[write to console]: =\n",
      "R[write to console]: \n",
      "\n",
      "R[write to console]: downloaded 522 KB\n",
      "\n",
      "\n",
      "R[write to console]: trying URL 'https://cloud.r-project.org/bin/macosx/big-sur-arm64/contrib/4.4/ggpubr_0.6.0.tgz'\n",
      "\n",
      "R[write to console]: Content type 'application/x-gzip'\n",
      "R[write to console]:  length 2100163 bytes (2.0 MB)\n",
      "\n",
      "R[write to console]: =\n",
      "R[write to console]: =\n",
      "R[write to console]: =\n",
      "R[write to console]: =\n",
      "R[write to console]: =\n",
      "R[write to console]: =\n",
      "R[write to console]: =\n",
      "R[write to console]: =\n",
      "R[write to console]: =\n",
      "R[write to console]: =\n",
      "R[write to console]: =\n",
      "R[write to console]: =\n",
      "R[write to console]: =\n",
      "R[write to console]: =\n",
      "R[write to console]: =\n",
      "R[write to console]: =\n",
      "R[write to console]: =\n",
      "R[write to console]: =\n",
      "R[write to console]: =\n",
      "R[write to console]: =\n",
      "R[write to console]: =\n",
      "R[write to console]: =\n",
      "R[write to console]: =\n",
      "R[write to console]: =\n",
      "R[write to console]: =\n",
      "R[write to console]: =\n",
      "R[write to console]: =\n",
      "R[write to console]: =\n",
      "R[write to console]: =\n",
      "R[write to console]: =\n",
      "R[write to console]: =\n",
      "R[write to console]: =\n",
      "R[write to console]: =\n",
      "R[write to console]: =\n",
      "R[write to console]: =\n",
      "R[write to console]: =\n",
      "R[write to console]: =\n",
      "R[write to console]: =\n",
      "R[write to console]: =\n",
      "R[write to console]: =\n",
      "R[write to console]: =\n",
      "R[write to console]: =\n",
      "R[write to console]: =\n",
      "R[write to console]: =\n",
      "R[write to console]: =\n",
      "R[write to console]: =\n",
      "R[write to console]: =\n",
      "R[write to console]: =\n",
      "R[write to console]: =\n",
      "R[write to console]: =\n",
      "R[write to console]: \n",
      "\n",
      "R[write to console]: downloaded 2.0 MB\n",
      "\n",
      "\n"
     ]
    },
    {
     "name": "stdout",
     "output_type": "stream",
     "text": [
      "\n",
      "The downloaded binary packages are in\n",
      "\t/var/folders/rj/l30_wb7d3w7_tbx4gbz6lzzh0000gn/T//RtmpiJeFvb/downloaded_packages\n"
     ]
    }
   ],
   "source": [
    "import os\n",
    "import pandas as pd\n",
    "import matplotlib.pyplot as plt\n",
    "import seaborn as sns\n",
    "\n",
    "def load_csv_data(folder_name, file_name):\n",
    "    csv_path = os.path.join(folder_name, file_name+\".csv\")\n",
    "    return pd.read_csv(csv_path, encoding='latin-1')\n",
    "\n",
    "import rpy2 \n",
    "from rpy2.robjects.packages import importr\n",
    "from rpy2.robjects.vectors import StrVector\n",
    "\n",
    "packnames = ('lme4', 'lmerTest','ggpubr')\n",
    "\n",
    "utils = importr(\"utils\")\n",
    "utils.chooseCRANmirror(ind=1)\n",
    "utils.install_packages(StrVector(packnames))\n",
    "%load_ext rpy2.ipython"
   ]
  },
  {
   "cell_type": "code",
   "execution_count": 2,
   "id": "94c0b5e0",
   "metadata": {},
   "outputs": [
    {
     "data": {
      "text/plain": [
       "Loading required package: Matrix\n",
       "\n",
       "Attaching package: ‘lmerTest’\n",
       "\n",
       "The following object is masked from ‘package:lme4’:\n",
       "\n",
       "    lmer\n",
       "\n",
       "The following object is masked from ‘package:stats’:\n",
       "\n",
       "    step\n",
       "\n",
       "Loading required package: ggplot2\n"
      ]
     },
     "metadata": {},
     "output_type": "display_data"
    }
   ],
   "source": [
    "%%R \n",
    "library(lme4) \n",
    "library(lmerTest)\n",
    "library(ggpubr)"
   ]
  },
  {
   "cell_type": "markdown",
   "id": "4ae23706",
   "metadata": {},
   "source": [
    "### Marginal distinct idea counts"
   ]
  },
  {
   "cell_type": "code",
   "execution_count": 3,
   "id": "e10d54f2",
   "metadata": {},
   "outputs": [],
   "source": [
    "df_marginal_distinct = load_csv_data(\"data\",\"marginal_distinct\")"
   ]
  },
  {
   "cell_type": "code",
   "execution_count": 4,
   "id": "3852a007",
   "metadata": {},
   "outputs": [
    {
     "data": {
      "text/plain": [
       "(0.95, 3.2)"
      ]
     },
     "execution_count": 4,
     "metadata": {},
     "output_type": "execute_result"
    },
    {
     "data": {
      "image/png": "[encoded data removed]",
      "text/plain": [
       "<Figure size 432x288 with 1 Axes>"
      ]
     },
     "metadata": {
      "needs_background": "light"
     },
     "output_type": "display_data"
    }
   ],
   "source": [
    "plt.figure(figsize=(6,4))\n",
    "ax = sns.barplot(x=\"condition\", y=\"marginal_distinct_cnt\", data=df_marginal_distinct, errorbar=('ci', 95))\n",
    "ax.set(xlabel='Condition', ylabel='Marginal distinct idea count')\n",
    "plt.ylim(0.95,3.2)"
   ]
  },
  {
   "cell_type": "code",
   "execution_count": 5,
   "id": "e7132da4",
   "metadata": {},
   "outputs": [
    {
     "name": "stdout",
     "output_type": "stream",
     "text": [
      "Linear mixed model fit by REML. t-tests use Satterthwaite's method [\n",
      "lmerModLmerTest]\n",
      "Formula: \n",
      "marginal_distinct_cnt ~ C(condition) + (1 | round) + (1 | network_size) +  \n",
      "    (1 | id)\n",
      "   Data: df_marginal_distinct\n",
      "\n",
      "REML criterion at convergence: 4773.8\n",
      "\n",
      "Scaled residuals: \n",
      "     Min       1Q   Median       3Q      Max \n",
      "-3.07143 -0.62879 -0.03928  0.61774  2.86515 \n",
      "\n",
      "Random effects:\n",
      " Groups       Name        Variance Std.Dev.\n",
      " id           (Intercept) 0.61991  0.7873  \n",
      " network_size (Intercept) 0.58177  0.7627  \n",
      " round        (Intercept) 0.03242  0.1800  \n",
      " Residual                 1.16502  1.0794  \n",
      "Number of obs: 1440, groups:  id, 360; network_size, 18; round, 4\n",
      "\n",
      "Fixed effects:\n",
      "                      Estimate Std. Error       df t value Pr(>|t|)    \n",
      "(Intercept)             2.4944     0.2133  21.1276  11.696 1.08e-10 ***\n",
      "C(condition)treatment   0.4569     0.1006 340.9978   4.541 7.76e-06 ***\n",
      "---\n",
      "Signif. codes:  0 ‘***’ 0.001 ‘**’ 0.01 ‘*’ 0.05 ‘.’ 0.1 ‘ ’ 1\n",
      "\n",
      "Correlation of Fixed Effects:\n",
      "            (Intr)\n",
      "C(cndtn)trt -0.236\n"
     ]
    }
   ],
   "source": [
    "%%R -i df_marginal_distinct \n",
    "\n",
    "df_marginal_distinct$condition = factor(df_marginal_distinct$condition) \n",
    "df_marginal_distinct$id = factor(df_marginal_distinct$id) \n",
    "\n",
    "mart = lmer(marginal_distinct_cnt ~ C(condition) + (1|round)+ (1|network_size) + (1|id), data=df_marginal_distinct) \n",
    "print(summary(mart))"
   ]
  },
  {
   "cell_type": "code",
   "execution_count": 6,
   "id": "2fd67518",
   "metadata": {},
   "outputs": [
    {
     "name": "stdout",
     "output_type": "stream",
     "text": [
      "Linear mixed model fit by REML. t-tests use Satterthwaite's method [\n",
      "lmerModLmerTest]\n",
      "Formula: marginal_distinct_cnt ~ C(condition) + round + network_size +  \n",
      "    (1 | id)\n",
      "   Data: df_marginal_distinct\n",
      "\n",
      "REML criterion at convergence: 4786.5\n",
      "\n",
      "Scaled residuals: \n",
      "     Min       1Q   Median       3Q      Max \n",
      "-2.83429 -0.64293 -0.04809  0.64518  2.93777 \n",
      "\n",
      "Random effects:\n",
      " Groups   Name        Variance Std.Dev.\n",
      " id       (Intercept) 0.6801   0.8247  \n",
      " Residual             1.1956   1.0934  \n",
      "Number of obs: 1440, groups:  id, 360\n",
      "\n",
      "Fixed effects:\n",
      "                        Estimate Std. Error         df t value Pr(>|t|)    \n",
      "(Intercept)              3.62057    0.15064  786.33287  24.034  < 2e-16 ***\n",
      "C(condition)treatment    0.45694    0.10430  356.99998   4.381 1.55e-05 ***\n",
      "round                    0.04250    0.02577 1079.00002   1.649   0.0994 .  \n",
      "network_size            -0.13420    0.01005  356.99998 -13.351  < 2e-16 ***\n",
      "---\n",
      "Signif. codes:  0 ‘***’ 0.001 ‘**’ 0.01 ‘*’ 0.05 ‘.’ 0.1 ‘ ’ 1\n",
      "\n",
      "Correlation of Fixed Effects:\n",
      "            (Intr) C(cnd) round \n",
      "C(cndtn)trt -0.346              \n",
      "round       -0.599  0.000       \n",
      "network_siz -0.634  0.000  0.000\n"
     ]
    }
   ],
   "source": [
    "%%R -i df_marginal_distinct \n",
    "\n",
    "df_marginal_distinct$condition = factor(df_marginal_distinct$condition)\n",
    "df_marginal_distinct$id = factor(df_marginal_distinct$id) \n",
    "\n",
    "mart = lmer(marginal_distinct_cnt ~ C(condition) + round+ network_size + (1|id), data=df_marginal_distinct) \n",
    "print(summary(mart)) "
   ]
  },
  {
   "cell_type": "markdown",
   "id": "e7b237ba",
   "metadata": {},
   "source": [
    "### Non-redundant Idea Counts"
   ]
  },
  {
   "cell_type": "code",
   "execution_count": 7,
   "id": "a223203d",
   "metadata": {},
   "outputs": [],
   "source": [
    "df_nonredun = load_csv_data(\"data\",\"nonredun\")"
   ]
  },
  {
   "cell_type": "code",
   "execution_count": 8,
   "id": "53723edd",
   "metadata": {},
   "outputs": [
    {
     "data": {
      "text/plain": [
       "[Text(0.5, 0, 'Condition'), Text(0, 0.5, 'Non-redundant idea count')]"
      ]
     },
     "execution_count": 8,
     "metadata": {},
     "output_type": "execute_result"
    },
    {
     "data": {
      "image/png": "[encoded data removed]",
      "text/plain": [
       "<Figure size 432x288 with 1 Axes>"
      ]
     },
     "metadata": {
      "needs_background": "light"
     },
     "output_type": "display_data"
    }
   ],
   "source": [
    "plt.figure(figsize=(6,4))\n",
    "ax = sns.barplot(x=\"condition\", y=\"nonredun_cnt\", data=df_nonredun, errorbar=('ci', 95))\n",
    "ax.set(xlabel='Condition', ylabel='Non-redundant idea count')"
   ]
  },
  {
   "cell_type": "code",
   "execution_count": 9,
   "id": "a1ed1a08",
   "metadata": {},
   "outputs": [
    {
     "name": "stdout",
     "output_type": "stream",
     "text": [
      "Linear mixed model fit by REML. t-tests use Satterthwaite's method [\n",
      "lmerModLmerTest]\n",
      "Formula: nonredun_cnt ~ condition + (1 | round) + (1 | id)\n",
      "   Data: df_nonredun\n",
      "\n",
      "REML criterion at convergence: 4706.3\n",
      "\n",
      "Scaled residuals: \n",
      "     Min       1Q   Median       3Q      Max \n",
      "-2.34580 -0.65198 -0.05188  0.62559  3.10335 \n",
      "\n",
      "Random effects:\n",
      " Groups   Name        Variance Std.Dev.\n",
      " id       (Intercept) 0.63233  0.7952  \n",
      " round    (Intercept) 0.03694  0.1922  \n",
      " Residual             1.13782  1.0667  \n",
      "Number of obs: 1440, groups:  id, 360; round, 4\n",
      "\n",
      "Fixed effects:\n",
      "                   Estimate Std. Error       df t value Pr(>|t|)    \n",
      "(Intercept)          1.7000     0.1197   6.1142  14.201 6.53e-06 ***\n",
      "conditiontreatment   0.3958     0.1009 358.0001   3.922 0.000105 ***\n",
      "---\n",
      "Signif. codes:  0 ‘***’ 0.001 ‘**’ 0.01 ‘*’ 0.05 ‘.’ 0.1 ‘ ’ 1\n",
      "\n",
      "Correlation of Fixed Effects:\n",
      "            (Intr)\n",
      "cndtntrtmnt -0.422\n"
     ]
    }
   ],
   "source": [
    "%%R -i df_nonredun \n",
    "\n",
    "df_nonredun$condition = factor(df_nonredun$condition) \n",
    "df_nonredun$id = factor(df_nonredun$id) \n",
    "df_nonredun$round = factor(df_nonredun$round) \n",
    "\n",
    "mart = lmer(nonredun_cnt ~ condition + (1|round) + (1|id), data=df_nonredun) \n",
    "print(summary(mart))"
   ]
  },
  {
   "cell_type": "markdown",
   "id": "f5e38f60",
   "metadata": {},
   "source": [
    "### Collective distinct"
   ]
  },
  {
   "cell_type": "code",
   "execution_count": 10,
   "id": "6b58aeb7",
   "metadata": {},
   "outputs": [],
   "source": [
    "df_groupwise_distinct = load_csv_data(\"data\",\"groupwise_distinct\") "
   ]
  },
  {
   "cell_type": "code",
   "execution_count": 11,
   "id": "2aa517ff",
   "metadata": {},
   "outputs": [
    {
     "name": "stdout",
     "output_type": "stream",
     "text": [
      "Linear mixed model fit by REML. t-tests use Satterthwaite's method [\n",
      "lmerModLmerTest]\n",
      "Formula: groupwise_distinct_cnt ~ condition + (1 | round) + (1 | trial_id)\n",
      "   Data: df_groupwise_distinct\n",
      "\n",
      "REML criterion at convergence: 565.3\n",
      "\n",
      "Scaled residuals: \n",
      "    Min      1Q  Median      3Q     Max \n",
      "-2.5644 -0.6140  0.1415  0.6062  2.2398 \n",
      "\n",
      "Random effects:\n",
      " Groups   Name        Variance Std.Dev.\n",
      " trial_id (Intercept) 16.808   4.100   \n",
      " round    (Intercept)  5.813   2.411   \n",
      " Residual             62.984   7.936   \n",
      "Number of obs: 80, groups:  trial_id, 10; round, 4\n",
      "\n",
      "Fixed effects:\n",
      "                   Estimate Std. Error     df t value Pr(>|t|)    \n",
      "(Intercept)          55.225      2.170  9.434  25.450 5.16e-10 ***\n",
      "conditiontreatment    8.700      1.775 66.000   4.903 6.47e-06 ***\n",
      "---\n",
      "Signif. codes:  0 ‘***’ 0.001 ‘**’ 0.01 ‘*’ 0.05 ‘.’ 0.1 ‘ ’ 1\n",
      "\n",
      "Correlation of Fixed Effects:\n",
      "            (Intr)\n",
      "cndtntrtmnt -0.409\n"
     ]
    }
   ],
   "source": [
    "%%R -i df_groupwise_distinct \n",
    "\n",
    "df_groupwise_distinct$condition = factor(df_groupwise_distinct$condition) # convert to nominal factor\n",
    "df_groupwise_distinct$trial_id = factor(df_groupwise_distinct$trial_id)\n",
    "\n",
    "mart = lmer(groupwise_distinct_cnt ~ condition + (1|round) + (1|trial_id), data=df_groupwise_distinct) # uses LMM\n",
    "print(summary(mart))"
   ]
  },
  {
   "cell_type": "markdown",
   "id": "c316c023",
   "metadata": {},
   "source": [
    "### CQ"
   ]
  },
  {
   "cell_type": "code",
   "execution_count": 12,
   "id": "68a36f45",
   "metadata": {},
   "outputs": [],
   "source": [
    "df_cq = load_csv_data(\"data\",\"cq\")"
   ]
  },
  {
   "cell_type": "code",
   "execution_count": 13,
   "id": "9107ead0",
   "metadata": {},
   "outputs": [
    {
     "data": {
      "text/plain": [
       "(3.0, 8.0)"
      ]
     },
     "execution_count": 13,
     "metadata": {},
     "output_type": "execute_result"
    },
    {
     "data": {
      "image/png": "[encoded data removed]",
      "text/plain": [
       "<Figure size 432x288 with 1 Axes>"
      ]
     },
     "metadata": {
      "needs_background": "light"
     },
     "output_type": "display_data"
    }
   ],
   "source": [
    "plt.figure(figsize=(6,4))\n",
    "ax = sns.barplot(x=\"condition\", y=\"cq\", data=df_cq, errorbar=('ci', 95))\n",
    "ax.set(xlabel='Condition', ylabel='Creativity Quotient')\n",
    "plt.ylim(3,8)"
   ]
  },
  {
   "cell_type": "code",
   "execution_count": 14,
   "id": "bfba8f15",
   "metadata": {},
   "outputs": [
    {
     "name": "stdout",
     "output_type": "stream",
     "text": [
      "Linear mixed model fit by REML. t-tests use Satterthwaite's method [\n",
      "lmerModLmerTest]\n",
      "Formula: cq ~ condition + (1 | round) + (1 | id)\n",
      "   Data: df_cq\n",
      "\n",
      "REML criterion at convergence: 6373.7\n",
      "\n",
      "Scaled residuals: \n",
      "    Min      1Q  Median      3Q     Max \n",
      "-5.3557 -0.5556 -0.0608  0.5005  4.2520 \n",
      "\n",
      "Random effects:\n",
      " Groups   Name        Variance Std.Dev.\n",
      " id       (Intercept) 4.20140  2.050   \n",
      " round    (Intercept) 0.09485  0.308   \n",
      " Residual             3.04456  1.745   \n",
      "Number of obs: 1440, groups:  id, 360; round, 4\n",
      "\n",
      "Fixed effects:\n",
      "                   Estimate Std. Error       df t value Pr(>|t|)    \n",
      "(Intercept)          6.5205     0.2265  11.7161   28.79 3.08e-12 ***\n",
      "conditiontreatment   0.6998     0.2348 357.9999    2.98  0.00308 ** \n",
      "---\n",
      "Signif. codes:  0 ‘***’ 0.001 ‘**’ 0.01 ‘*’ 0.05 ‘.’ 0.1 ‘ ’ 1\n",
      "\n",
      "Correlation of Fixed Effects:\n",
      "            (Intr)\n",
      "cndtntrtmnt -0.518\n"
     ]
    }
   ],
   "source": [
    "%%R -i df_cq \n",
    "\n",
    "df_cq$condition = factor(df_cq$condition) # convert to nominal factor\n",
    "df_cq$id = factor(df_cq$id) \n",
    "df_cq$round = factor(df_cq$round) \n",
    "\n",
    "mart = lmer(cq ~ condition + (1|round) + (1|id), data=df_cq) # uses LMM\n",
    "print(summary(mart))"
   ]
  },
  {
   "cell_type": "markdown",
   "id": "2088b444",
   "metadata": {},
   "source": [
    "### Max(SemDis)"
   ]
  },
  {
   "cell_type": "code",
   "execution_count": 15,
   "id": "0171b9bc",
   "metadata": {},
   "outputs": [],
   "source": [
    "df_semdis = load_csv_data(\"data\",\"semdis\")"
   ]
  },
  {
   "cell_type": "code",
   "execution_count": 16,
   "id": "66dbef4b",
   "metadata": {},
   "outputs": [
    {
     "data": {
      "text/plain": [
       "(0.98, 1.08)"
      ]
     },
     "execution_count": 16,
     "metadata": {},
     "output_type": "execute_result"
    },
    {
     "data": {
      "image/png": "[encoded data removed]",
      "text/plain": [
       "<Figure size 432x288 with 1 Axes>"
      ]
     },
     "metadata": {
      "needs_background": "light"
     },
     "output_type": "display_data"
    }
   ],
   "source": [
    "plt.figure(figsize=(6,4))\n",
    "ax = sns.barplot(x=\"condition\", y=\"semdis\", data=df_semdis, errorbar=('ci', 95))\n",
    "ax.set(xlabel='Condition', ylabel='Maximum SemDis score')\n",
    "plt.ylim(0.98,1.08)"
   ]
  },
  {
   "cell_type": "code",
   "execution_count": 17,
   "id": "76896fcf",
   "metadata": {},
   "outputs": [
    {
     "name": "stdout",
     "output_type": "stream",
     "text": [
      "Linear mixed model fit by REML. t-tests use Satterthwaite's method [\n",
      "lmerModLmerTest]\n",
      "Formula: semdis ~ condition + (1 | round) + (1 | id)\n",
      "   Data: df_semdis\n",
      "\n",
      "REML criterion at convergence: -3035.7\n",
      "\n",
      "Scaled residuals: \n",
      "     Min       1Q   Median       3Q      Max \n",
      "-12.2542  -0.4743  -0.0179   0.4930   3.1156 \n",
      "\n",
      "Random effects:\n",
      " Groups   Name        Variance  Std.Dev.\n",
      " id       (Intercept) 0.0008605 0.02933 \n",
      " round    (Intercept) 0.0002492 0.01579 \n",
      " Residual             0.0062648 0.07915 \n",
      "Number of obs: 1440, groups:  id, 360; round, 4\n",
      "\n",
      "Fixed effects:\n",
      "                    Estimate Std. Error        df t value Pr(>|t|)    \n",
      "(Intercept)        1.052e+00  8.705e-03 3.877e+00 120.824 4.45e-08 ***\n",
      "conditiontreatment 1.220e-02  5.193e-03 3.580e+02   2.349   0.0193 *  \n",
      "---\n",
      "Signif. codes:  0 ‘***’ 0.001 ‘**’ 0.01 ‘*’ 0.05 ‘.’ 0.1 ‘ ’ 1\n",
      "\n",
      "Correlation of Fixed Effects:\n",
      "            (Intr)\n",
      "cndtntrtmnt -0.298\n"
     ]
    }
   ],
   "source": [
    "%%R -i df_semdis \n",
    "\n",
    "df_semdis$condition = factor(df_semdis$condition)\n",
    "\n",
    "mart = lmer(semdis ~ condition + (1|round) + (1|id), data=df_semdis)\n",
    "print(summary(mart))"
   ]
  },
  {
   "cell_type": "markdown",
   "id": "ccd84e01",
   "metadata": {},
   "source": [
    "### Gini analysis"
   ]
  },
  {
   "cell_type": "code",
   "execution_count": 18,
   "id": "1ef48ae3",
   "metadata": {},
   "outputs": [],
   "source": [
    "df_gini = load_csv_data(\"data\",\"gini\")"
   ]
  },
  {
   "cell_type": "code",
   "execution_count": 19,
   "id": "a8528651",
   "metadata": {},
   "outputs": [
    {
     "data": {
      "text/plain": [
       "[Text(0.5, 0, 'Condition'), Text(0, 0.5, 'Gini Coefficient')]"
      ]
     },
     "execution_count": 19,
     "metadata": {},
     "output_type": "execute_result"
    },
    {
     "data": {
      "image/png": "[encoded data removed]",
      "text/plain": [
       "<Figure size 432x288 with 1 Axes>"
      ]
     },
     "metadata": {
      "needs_background": "light"
     },
     "output_type": "display_data"
    }
   ],
   "source": [
    "plt.figure(figsize=(6,4))\n",
    "ax = sns.barplot(x=\"condition\", y=\"gini\", data=df_gini, errorbar=('ci', 95))\n",
    "ax.set(xlabel='Condition', ylabel='Gini Coefficient')"
   ]
  },
  {
   "cell_type": "code",
   "execution_count": 20,
   "id": "086f7099",
   "metadata": {},
   "outputs": [
    {
     "name": "stdout",
     "output_type": "stream",
     "text": [
      "Linear mixed model fit by REML. t-tests use Satterthwaite's method [\n",
      "lmerModLmerTest]\n",
      "Formula: gini ~ condition + (1 | round) + (1 | trial_id)\n",
      "   Data: df_gini\n",
      "\n",
      "REML criterion at convergence: -257.9\n",
      "\n",
      "Scaled residuals: \n",
      "     Min       1Q   Median       3Q      Max \n",
      "-2.91861 -0.52278 -0.04951  0.55039  3.14754 \n",
      "\n",
      "Random effects:\n",
      " Groups   Name        Variance Std.Dev.\n",
      " trial_id (Intercept) 0.001969 0.04437 \n",
      " round    (Intercept) 0.000000 0.00000 \n",
      " Residual             0.003252 0.05703 \n",
      "Number of obs: 100, groups:  trial_id, 10; round, 5\n",
      "\n",
      "Fixed effects:\n",
      "                   Estimate Std. Error       df t value Pr(>|t|)    \n",
      "(Intercept)         0.32474    0.01618 11.70923  20.066 1.98e-10 ***\n",
      "conditiontreatment -0.07270    0.01141 89.00000  -6.374 7.95e-09 ***\n",
      "---\n",
      "Signif. codes:  0 ‘***’ 0.001 ‘**’ 0.01 ‘*’ 0.05 ‘.’ 0.1 ‘ ’ 1\n",
      "\n",
      "Correlation of Fixed Effects:\n",
      "            (Intr)\n",
      "cndtntrtmnt -0.352\n",
      "optimizer (nloptwrap) convergence code: 0 (OK)\n",
      "boundary (singular) fit: see help('isSingular')\n",
      "\n"
     ]
    },
    {
     "data": {
      "text/plain": [
       "boundary (singular) fit: see help('isSingular')\n"
      ]
     },
     "metadata": {},
     "output_type": "display_data"
    }
   ],
   "source": [
    "%%R -i df_gini \n",
    "\n",
    "df_gini$condition = factor(df_gini$condition) # convert to nominal factor\n",
    "df_gini$trial_id = factor(df_gini$trial_id)\n",
    "df_gini$round = factor(df_gini$round)\n",
    "\n",
    "mart = lmer(gini ~ condition + (1|round)+ (1|trial_id), data=df_gini) # uses LMM\n",
    "print(summary(mart))"
   ]
  },
  {
   "cell_type": "code",
   "execution_count": 21,
   "id": "4bf775a9",
   "metadata": {},
   "outputs": [],
   "source": [
    "df_gini_networksize = load_csv_data(\"data\",\"gini_networksize\")"
   ]
  },
  {
   "cell_type": "code",
   "execution_count": 22,
   "id": "636fe5e8",
   "metadata": {},
   "outputs": [
    {
     "data": {
      "text/plain": [
       "[Text(0.5, 0, 'Network Size'), Text(0, 0.5, 'Gini Coefficient')]"
      ]
     },
     "execution_count": 22,
     "metadata": {},
     "output_type": "execute_result"
    },
    {
     "data": {
      "image/png": "[encoded data removed]",
      "text/plain": [
       "<Figure size 432x288 with 1 Axes>"
      ]
     },
     "metadata": {
      "needs_background": "light"
     },
     "output_type": "display_data"
    }
   ],
   "source": [
    "plt.figure(figsize=(6,4))\n",
    "ax = sns.lineplot(data=df_gini_networksize, x=\"networksize\", y=\"gini\", hue=\"condition\")\n",
    "ax.set(xlabel='Network Size', ylabel='Gini Coefficient')"
   ]
  },
  {
   "cell_type": "markdown",
   "id": "6320325b",
   "metadata": {},
   "source": [
    "### Percentage of recommendations dominated by semantic features"
   ]
  },
  {
   "cell_type": "code",
   "execution_count": 23,
   "id": "54b8886b",
   "metadata": {},
   "outputs": [],
   "source": [
    "df_explanation = load_csv_data(\"data\",\"frac_sem\")"
   ]
  },
  {
   "cell_type": "code",
   "execution_count": 24,
   "id": "0718469c",
   "metadata": {},
   "outputs": [
    {
     "name": "stdout",
     "output_type": "stream",
     "text": [
      "`geom_smooth()` using formula = 'y ~ x'\n"
     ]
    },
    {
     "data": {
      "image/png": "[encoded data removed]",
      "text/plain": [
       "<IPython.core.display.Image object>"
      ]
     },
     "metadata": {},
     "output_type": "display_data"
    }
   ],
   "source": [
    "%%R -i df_explanation \n",
    "\n",
    "ggplot(data=df_explanation, aes(x=network_size, y=frac_semantic))+\n",
    "geom_point(alpha = 0.25)+\n",
    "geom_smooth(method=loess, se=TRUE) "
   ]
  },
  {
   "cell_type": "markdown",
   "id": "b25c3b7c",
   "metadata": {},
   "source": [
    "### Recommendation affects rating behavior"
   ]
  },
  {
   "cell_type": "code",
   "execution_count": 25,
   "id": "742c459e",
   "metadata": {},
   "outputs": [],
   "source": [
    "df_ratings = load_csv_data(\"data\",\"ratings\") "
   ]
  },
  {
   "cell_type": "code",
   "execution_count": 26,
   "id": "ab7b59c0",
   "metadata": {},
   "outputs": [
    {
     "name": "stdout",
     "output_type": "stream",
     "text": [
      "Linear mixed model fit by REML. t-tests use Satterthwaite's method [\n",
      "lmerModLmerTest]\n",
      "Formula: rating ~ condition + (1 | idea_id) + (1 | from_ego_id) + (1 |  \n",
      "    for_alter_id)\n",
      "   Data: df_ratings\n",
      "\n",
      "REML criterion at convergence: 93402.8\n",
      "\n",
      "Scaled residuals: \n",
      "    Min      1Q  Median      3Q     Max \n",
      "-3.4797 -0.6559 -0.0021  0.6851  3.4690 \n",
      "\n",
      "Random effects:\n",
      " Groups       Name        Variance Std.Dev.\n",
      " idea_id      (Intercept) 0.06206  0.2491  \n",
      " from_ego_id  (Intercept) 0.48538  0.6967  \n",
      " for_alter_id (Intercept) 0.02787  0.1670  \n",
      " Residual                 1.02711  1.0135  \n",
      "Number of obs: 31836, groups:  \n",
      "idea_id, 1759; from_ego_id, 180; for_alter_id, 60\n",
      "\n",
      "Fixed effects:\n",
      "                      Estimate Std. Error        df t value Pr(>|t|)    \n",
      "(Intercept)          3.181e+00  5.698e-02 2.221e+02  55.829  < 2e-16 ***\n",
      "conditionrecommended 4.168e-02  1.266e-02 3.162e+04   3.294 0.000989 ***\n",
      "---\n",
      "Signif. codes:  0 ‘***’ 0.001 ‘**’ 0.01 ‘*’ 0.05 ‘.’ 0.1 ‘ ’ 1\n",
      "\n",
      "Correlation of Fixed Effects:\n",
      "            (Intr)\n",
      "cndtnrcmmnd -0.074\n"
     ]
    }
   ],
   "source": [
    "%%R -i df_ratings \n",
    "\n",
    "df_ratings$condition = factor(df_ratings$condition)\n",
    "df_ratings$idea_id = factor(df_ratings$idea_id)\n",
    "df_ratings$for_alter_id = factor(df_ratings$for_alter_id)\n",
    "df_ratings$from_ego_id = factor(df_ratings$from_ego_id)\n",
    "\n",
    "mart = lmer(rating ~ condition+(1|idea_id)+(1|from_ego_id)+(1|for_alter_id), data=df_ratings) \n",
    "print(summary(mart))"
   ]
  },
  {
   "cell_type": "code",
   "execution_count": null,
   "id": "657fc8b5",
   "metadata": {},
   "outputs": [],
   "source": []
  }
 ],
 "metadata": {
  "kernelspec": {
   "display_name": "Python 3 (ipykernel)",
   "language": "python",
   "name": "python3"
  },
  "language_info": {
   "codemirror_mode": {
    "name": "ipython",
    "version": 3
   },
   "file_extension": ".py",
   "mimetype": "text/x-python",
   "name": "python",
   "nbconvert_exporter": "python",
   "pygments_lexer": "ipython3",
   "version": "3.9.7"
  }
 },
 "nbformat": 4,
 "nbformat_minor": 5
}
